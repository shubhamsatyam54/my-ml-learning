{
 "cells": [
  {
   "cell_type": "code",
   "execution_count": 8,
   "id": "motivated-briefs",
   "metadata": {},
   "outputs": [],
   "source": [
    "import pandas as pd\n",
    "import numpy as np\n",
    "import matplotlib.pyplot as plt"
   ]
  },
  {
   "cell_type": "code",
   "execution_count": 35,
   "id": "continental-playlist",
   "metadata": {},
   "outputs": [],
   "source": [
    "X1=np.array([3,4,5,6])\n",
    "X=np.array([2,4,5,1])\n",
    "Y=np.array([17,35,46,9])\n"
   ]
  },
  {
   "cell_type": "markdown",
   "id": "acoustic-business",
   "metadata": {},
   "source": [
    "# gradient descent for linear regression"
   ]
  },
  {
   "cell_type": "markdown",
   "id": "selective-opera",
   "metadata": {},
   "source": [
    "### gradient descent for 1 variable"
   ]
  },
  {
   "cell_type": "code",
   "execution_count": 31,
   "id": "passing-literacy",
   "metadata": {},
   "outputs": [
    {
     "name": "stdout",
     "output_type": "stream",
     "text": [
      "-0.8499999999999981\n"
     ]
    }
   ],
   "source": [
    "c=0\n",
    "for i in range(1000):\n",
    "    dc=sum(-2*(Y-(c+9.2*X)))\n",
    "    c=c-(dc*0.01)\n",
    "print(c)\n"
   ]
  },
  {
   "cell_type": "markdown",
   "id": "interstate-phrase",
   "metadata": {},
   "source": [
    "### gradient descent for 2 variable"
   ]
  },
  {
   "cell_type": "code",
   "execution_count": 32,
   "id": "young-asthma",
   "metadata": {},
   "outputs": [
    {
     "name": "stdout",
     "output_type": "stream",
     "text": [
      "m= 9.19999993826677 c= -0.8499997675395401\n"
     ]
    }
   ],
   "source": [
    "c=0\n",
    "m=0\n",
    "for i in range(1000):\n",
    "    dm=sum(-2*X*(Y-(c+m*X)))\n",
    "    dc=sum(-2*(Y-(c+m*X)))\n",
    "    c=c-(dc*0.01)\n",
    "    m=m-(dm*0.01)\n",
    "print(\"m=\",m,\"c=\",c)\n"
   ]
  },
  {
   "cell_type": "markdown",
   "id": "fitted-video",
   "metadata": {},
   "source": [
    "### gradient descent for multiple variable"
   ]
  },
  {
   "cell_type": "code",
   "execution_count": 48,
   "id": "planned-wound",
   "metadata": {
    "scrolled": true
   },
   "outputs": [
    {
     "name": "stdout",
     "output_type": "stream",
     "text": [
      "m1= 1.0432390331513104 m= 11.282625625964563 c= -13.584384249757218\n"
     ]
    }
   ],
   "source": [
    "c=0\n",
    "m=0\n",
    "m1=0\n",
    "for i in range(10000):\n",
    "    dm1=sum(-2*X*X1*(Y-(c+m*X+m1*X1)))\n",
    "    dm=sum(-2*X*(Y-(c+m*X+m1*X1)))\n",
    "    dc=sum(-2*(Y-(c+m*X+m1*X1)))\n",
    "    c=c-(dc*0.0001)\n",
    "    m=m-(dm*0.0001)\n",
    "    m1=m1-(dm1*0.0001)\n",
    "print(\"m1=\",m1,\"m=\",m,\"c=\",c)"
   ]
  },
  {
   "cell_type": "code",
   "execution_count": 50,
   "id": "modified-track",
   "metadata": {},
   "outputs": [
    {
     "data": {
      "text/plain": [
       "array([12.1105841 , 35.71907439, 48.04493905,  3.95767558])"
      ]
     },
     "execution_count": 50,
     "metadata": {},
     "output_type": "execute_result"
    }
   ],
   "source": [
    "Y_pred=X1*m1+X*m+c\n",
    "Y_pred"
   ]
  },
  {
   "cell_type": "markdown",
   "id": "pregnant-position",
   "metadata": {},
   "source": [
    "# gradient descent for logistic regression"
   ]
  },
  {
   "cell_type": "code",
   "execution_count": 216,
   "id": "opposite-spotlight",
   "metadata": {},
   "outputs": [
    {
     "name": "stdout",
     "output_type": "stream",
     "text": [
      "m= -0.029229790563634356 c= 0.7807029737598056\n"
     ]
    },
    {
     "data": {
      "text/plain": [
       "array([0.61973064, 0.65352135, 0.19142751, 0.43970985, 0.3900866 ,\n",
       "       0.4253621 , 0.3492524 , 0.39706284, 0.33608577, 0.62659455])"
      ]
     },
     "execution_count": 216,
     "metadata": {},
     "output_type": "execute_result"
    }
   ],
   "source": [
    "X=np.array([10,5,76,35,42,37,48,41,50,9])\n",
    "Y=np.array([0,1,0,1,0,1,0,1,0,1])\n",
    "c=0\n",
    "m=0\n",
    "for i in range(1000000):\n",
    "    z=1/(1 + np.exp(-(c+m*X)))\n",
    "    dm=sum((z-Y)*X)\n",
    "    dc=sum(z-Y)\n",
    "    c=c-(dc*0.000001)\n",
    "    m=m-(dm*0.000001)\n",
    "print(\"m=\",m,\"c=\",c)\n",
    "Y_Pred=1/(1 + np.exp(-(c+m*X)))\n",
    "Y_Pred"
   ]
  },
  {
   "cell_type": "code",
   "execution_count": 217,
   "id": "impressive-delhi",
   "metadata": {},
   "outputs": [],
   "source": [
    "z=np.where( Y_Pred > 0.5, 1, 0 ) "
   ]
  },
  {
   "cell_type": "code",
   "execution_count": 218,
   "id": "junior-heritage",
   "metadata": {},
   "outputs": [
    {
     "name": "stdout",
     "output_type": "stream",
     "text": [
      "Accuracy on test set by our model       :   60.0\n"
     ]
    }
   ],
   "source": [
    "correctly_classified = 0    \n",
    "\n",
    "\n",
    "# counter    \n",
    "count = 0    \n",
    "for count in range( np.size( z ) ) :  \n",
    "\n",
    "    if z[count] == Y[count] :            \n",
    "        correctly_classified = correctly_classified + 1\n",
    "\n",
    "    count = count + 1\n",
    "\n",
    "print( \"Accuracy on test set by our model       :  \", ( \n",
    "  correctly_classified / count ) * 100 )\n"
   ]
  },
  {
   "cell_type": "code",
   "execution_count": null,
   "id": "backed-benchmark",
   "metadata": {},
   "outputs": [],
   "source": []
  }
 ],
 "metadata": {
  "kernelspec": {
   "display_name": "Python 3",
   "language": "python",
   "name": "python3"
  },
  "language_info": {
   "codemirror_mode": {
    "name": "ipython",
    "version": 3
   },
   "file_extension": ".py",
   "mimetype": "text/x-python",
   "name": "python",
   "nbconvert_exporter": "python",
   "pygments_lexer": "ipython3",
   "version": "3.9.2"
  }
 },
 "nbformat": 4,
 "nbformat_minor": 5
}
