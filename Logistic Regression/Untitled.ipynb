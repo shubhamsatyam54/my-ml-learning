{
 "cells": [
  {
   "cell_type": "code",
   "execution_count": 2,
   "id": "strategic-funds",
   "metadata": {},
   "outputs": [],
   "source": [
    "import pandas as pd\n",
    "import numpy as np\n",
    "import matplotlib.pyplot as plt"
   ]
  },
  {
   "cell_type": "code",
   "execution_count": 3,
   "id": "familiar-falls",
   "metadata": {},
   "outputs": [],
   "source": [
    "X=np.array([1,2,3,4,5,6,7,8,9,10])\n",
    "Y=np.array([0,1,0,1,0,1,0,1,0,1])\n",
    "XS=1/(1 + np.exp(-X))\n",
    "YS=1/(1 + np.exp(-Y))\n"
   ]
  },
  {
   "cell_type": "code",
   "execution_count": 4,
   "id": "governing-detail",
   "metadata": {},
   "outputs": [
    {
     "name": "stdout",
     "output_type": "stream",
     "text": [
      "M= 0.030303030303030304  C= 0.3333333333333333\n"
     ]
    }
   ],
   "source": [
    "x_mean=X.mean()\n",
    "y_mean=Y.mean()\n",
    "X_sum=X-x_mean\n",
    "Y_sum=Y-y_mean\n",
    "Xs=sum(X_sum**2)\n",
    "Ys=sum(X_sum*Y_sum)\n",
    "M=Ys/Xs\n",
    "C=y_mean-M*x_mean\n",
    "print(\"M=\",M ,\" C=\", C)"
   ]
  },
  {
   "cell_type": "code",
   "execution_count": 13,
   "id": "demographic-prophet",
   "metadata": {},
   "outputs": [
    {
     "data": {
      "text/plain": [
       "array([0.73105858, 0.88079708, 0.95257413, 0.98201379, 0.99330715,\n",
       "       0.99752738, 0.99908895, 0.99966465, 0.99987661, 0.9999546 ])"
      ]
     },
     "execution_count": 13,
     "metadata": {},
     "output_type": "execute_result"
    }
   ],
   "source": [
    "XS=1/(1 + np.exp(-X))\n",
    "YS=1/(1 + np.exp(-Y))\n",
    "XS"
   ]
  },
  {
   "cell_type": "code",
   "execution_count": 10,
   "id": "directed-cycle",
   "metadata": {},
   "outputs": [
    {
     "data": {
      "text/plain": [
       "0.5454545454545454"
      ]
     },
     "execution_count": 10,
     "metadata": {},
     "output_type": "execute_result"
    }
   ],
   "source": [
    "Y_pred=M*7+C\n",
    "Y_pred"
   ]
  },
  {
   "cell_type": "code",
   "execution_count": null,
   "id": "together-secret",
   "metadata": {},
   "outputs": [],
   "source": [
    "Y_pred=M*x_mean+C\n",
    "plt.scatter(X,Y,s=100.)\n",
    "#plt.plot(X,Y_pred,color='r')\n",
    "plt.show()"
   ]
  },
  {
   "cell_type": "code",
   "execution_count": null,
   "id": "qualified-observation",
   "metadata": {},
   "outputs": [],
   "source": [
    "Y_pred=M*X+C"
   ]
  },
  {
   "cell_type": "code",
   "execution_count": null,
   "id": "utility-cooler",
   "metadata": {},
   "outputs": [],
   "source": [
    "z = 1/(1 + np.exp(-(Y_pred)))\n",
    "plt.plot(X,Y_pred)\n",
    "plt.show()"
   ]
  },
  {
   "cell_type": "code",
   "execution_count": null,
   "id": "geographic-chicken",
   "metadata": {},
   "outputs": [],
   "source": [
    "Y_new = np.where( z > 0.5, 1, 0 )  "
   ]
  },
  {
   "cell_type": "code",
   "execution_count": null,
   "id": "diagnostic-amount",
   "metadata": {},
   "outputs": [],
   "source": [
    "Y_new"
   ]
  },
  {
   "cell_type": "code",
   "execution_count": null,
   "id": "virgin-blues",
   "metadata": {},
   "outputs": [],
   "source": [
    "plt.plot(X,z)"
   ]
  },
  {
   "cell_type": "code",
   "execution_count": null,
   "id": "virtual-nomination",
   "metadata": {},
   "outputs": [],
   "source": []
  }
 ],
 "metadata": {
  "kernelspec": {
   "display_name": "Python 3",
   "language": "python",
   "name": "python3"
  },
  "language_info": {
   "codemirror_mode": {
    "name": "ipython",
    "version": 3
   },
   "file_extension": ".py",
   "mimetype": "text/x-python",
   "name": "python",
   "nbconvert_exporter": "python",
   "pygments_lexer": "ipython3",
   "version": "3.9.2"
  }
 },
 "nbformat": 4,
 "nbformat_minor": 5
}
