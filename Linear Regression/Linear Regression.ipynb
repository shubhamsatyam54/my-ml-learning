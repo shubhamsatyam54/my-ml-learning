{
 "cells": [
  {
   "cell_type": "code",
   "execution_count": 1,
   "id": "continent-alfred",
   "metadata": {
    "scrolled": false
   },
   "outputs": [],
   "source": [
    "import pandas as pd\n",
    "import numpy as np\n",
    "import matplotlib.pyplot as plt"
   ]
  },
  {
   "cell_type": "markdown",
   "id": "distinct-layer",
   "metadata": {},
   "source": [
    "# simple implementation"
   ]
  },
  {
   "cell_type": "code",
   "execution_count": 11,
   "id": "human-thriller",
   "metadata": {
    "scrolled": true
   },
   "outputs": [
    {
     "name": "stdout",
     "output_type": "stream",
     "text": [
      "M= 9.2  C= -0.8499999999999979\n"
     ]
    }
   ],
   "source": [
    "X=np.array([2,4,5,1])\n",
    "Y=np.array([17,35,46,9])\n",
    "x_mean=X.mean()\n",
    "y_mean=Y.mean()\n",
    "X_sum=X-x_mean\n",
    "Y_sum=Y-y_mean\n",
    "Xs=sum(X_sum**2)\n",
    "Ys=sum(X_sum*Y_sum)\n",
    "M=Ys/Xs\n",
    "C=y_mean-M*x_mean\n",
    "print(\"M=\",M ,\" C=\", C)"
   ]
  },
  {
   "cell_type": "code",
   "execution_count": 12,
   "id": "helpful-crest",
   "metadata": {},
   "outputs": [
    {
     "data": {
      "image/png": "[encoded data removed]",
      "text/plain": [
       "<Figure size 432x288 with 1 Axes>"
      ]
     },
     "metadata": {
      "needs_background": "light"
     },
     "output_type": "display_data"
    }
   ],
   "source": [
    "Y_pred=M*X+C\n",
    "plt.scatter(X,Y,s=100.)\n",
    "plt.plot(X,Y_pred,color='r')\n",
    "plt.show()"
   ]
  },
  {
   "cell_type": "code",
   "execution_count": 14,
   "id": "faced-format",
   "metadata": {},
   "outputs": [
    {
     "data": {
      "text/plain": [
       "0.9972312223858618"
      ]
     },
     "execution_count": 14,
     "metadata": {},
     "output_type": "execute_result"
    }
   ],
   "source": [
    "#error\n",
    "Ys=sum((Y-y_mean)**2)\n",
    "Yps=sum((Y_pred-y_mean)**2)\n",
    "r2=Yps/Ys\n",
    "r2"
   ]
  },
  {
   "cell_type": "markdown",
   "id": "efficient-grant",
   "metadata": {},
   "source": [
    "# implementation on csv"
   ]
  },
  {
   "cell_type": "code",
   "execution_count": 4,
   "id": "clinical-arlington",
   "metadata": {},
   "outputs": [
    {
     "data": {
      "text/html": [
       "<div>\n",
       "<style scoped>\n",
       "    .dataframe tbody tr th:only-of-type {\n",
       "        vertical-align: middle;\n",
       "    }\n",
       "\n",
       "    .dataframe tbody tr th {\n",
       "        vertical-align: top;\n",
       "    }\n",
       "\n",
       "    .dataframe thead th {\n",
       "        text-align: right;\n",
       "    }\n",
       "</style>\n",
       "<table border=\"1\" class=\"dataframe\">\n",
       "  <thead>\n",
       "    <tr style=\"text-align: right;\">\n",
       "      <th></th>\n",
       "      <th>x</th>\n",
       "      <th>y</th>\n",
       "    </tr>\n",
       "  </thead>\n",
       "  <tbody>\n",
       "    <tr>\n",
       "      <th>0</th>\n",
       "      <td>24.0</td>\n",
       "      <td>21.549452</td>\n",
       "    </tr>\n",
       "    <tr>\n",
       "      <th>1</th>\n",
       "      <td>50.0</td>\n",
       "      <td>47.464463</td>\n",
       "    </tr>\n",
       "    <tr>\n",
       "      <th>2</th>\n",
       "      <td>15.0</td>\n",
       "      <td>17.218656</td>\n",
       "    </tr>\n",
       "    <tr>\n",
       "      <th>3</th>\n",
       "      <td>38.0</td>\n",
       "      <td>36.586398</td>\n",
       "    </tr>\n",
       "    <tr>\n",
       "      <th>4</th>\n",
       "      <td>87.0</td>\n",
       "      <td>87.288984</td>\n",
       "    </tr>\n",
       "    <tr>\n",
       "      <th>...</th>\n",
       "      <td>...</td>\n",
       "      <td>...</td>\n",
       "    </tr>\n",
       "    <tr>\n",
       "      <th>695</th>\n",
       "      <td>58.0</td>\n",
       "      <td>58.595006</td>\n",
       "    </tr>\n",
       "    <tr>\n",
       "      <th>696</th>\n",
       "      <td>93.0</td>\n",
       "      <td>94.625094</td>\n",
       "    </tr>\n",
       "    <tr>\n",
       "      <th>697</th>\n",
       "      <td>82.0</td>\n",
       "      <td>88.603770</td>\n",
       "    </tr>\n",
       "    <tr>\n",
       "      <th>698</th>\n",
       "      <td>66.0</td>\n",
       "      <td>63.648685</td>\n",
       "    </tr>\n",
       "    <tr>\n",
       "      <th>699</th>\n",
       "      <td>97.0</td>\n",
       "      <td>94.975266</td>\n",
       "    </tr>\n",
       "  </tbody>\n",
       "</table>\n",
       "<p>699 rows × 2 columns</p>\n",
       "</div>"
      ],
      "text/plain": [
       "        x          y\n",
       "0    24.0  21.549452\n",
       "1    50.0  47.464463\n",
       "2    15.0  17.218656\n",
       "3    38.0  36.586398\n",
       "4    87.0  87.288984\n",
       "..    ...        ...\n",
       "695  58.0  58.595006\n",
       "696  93.0  94.625094\n",
       "697  82.0  88.603770\n",
       "698  66.0  63.648685\n",
       "699  97.0  94.975266\n",
       "\n",
       "[699 rows x 2 columns]"
      ]
     },
     "execution_count": 4,
     "metadata": {},
     "output_type": "execute_result"
    }
   ],
   "source": [
    "df=pd.read_csv('train.csv')\n",
    "df=df.dropna()\n",
    "df"
   ]
  },
  {
   "cell_type": "code",
   "execution_count": 5,
   "id": "emerging-electric",
   "metadata": {},
   "outputs": [],
   "source": [
    "X=df['x']\n",
    "Y=df['y']"
   ]
  },
  {
   "cell_type": "code",
   "execution_count": 6,
   "id": "positive-logan",
   "metadata": {},
   "outputs": [
    {
     "name": "stdout",
     "output_type": "stream",
     "text": [
      "M= 1.0006563818563046  C= -0.10726546430100825\n"
     ]
    }
   ],
   "source": [
    "x_mean=X.mean()\n",
    "y_mean=Y.mean()\n",
    "X_sum=X-x_mean\n",
    "Y_sum=Y-y_mean\n",
    "Xs=sum(X_sum**2)\n",
    "Ys=sum(X_sum*Y_sum)\n",
    "M=Ys/Xs\n",
    "C=y_mean-M*x_mean\n",
    "print(\"M=\",M ,\" C=\", C)"
   ]
  },
  {
   "cell_type": "code",
   "execution_count": 7,
   "id": "pleasant-enforcement",
   "metadata": {},
   "outputs": [],
   "source": [
    "df1=pd.read_csv(\"train.csv\")\n",
    "df1=df1.dropna()\n",
    "Xt=df1['x'].values\n",
    "Yt=df1['y'].values\n",
    "Y_pred=M*Xt+C"
   ]
  },
  {
   "cell_type": "code",
   "execution_count": null,
   "id": "healthy-browser",
   "metadata": {},
   "outputs": [],
   "source": [
    "#error\n",
    "Ys=sum((Y-y_mean)**2)\n",
    "Yps=sum((Y_pred-y_mean)**2)\n",
    "r2=Yps/Ys\n",
    "r2"
   ]
  },
  {
   "cell_type": "code",
   "execution_count": 9,
   "id": "insured-calibration",
   "metadata": {
    "scrolled": true
   },
   "outputs": [
    {
     "data": {
      "image/png": "[encoded data removed]",
      "text/plain": [
       "<Figure size 432x288 with 1 Axes>"
      ]
     },
     "metadata": {
      "needs_background": "light"
     },
     "output_type": "display_data"
    }
   ],
   "source": [
    "plt.scatter(X,Y)\n",
    "plt.plot(Xt,Y_pred,color='r')\n",
    "plt.show()"
   ]
  },
  {
   "cell_type": "code",
   "execution_count": null,
   "id": "determined-freedom",
   "metadata": {},
   "outputs": [],
   "source": []
  }
 ],
 "metadata": {
  "kernelspec": {
   "display_name": "Python 3",
   "language": "python",
   "name": "python3"
  },
  "language_info": {
   "codemirror_mode": {
    "name": "ipython",
    "version": 3
   },
   "file_extension": ".py",
   "mimetype": "text/x-python",
   "name": "python",
   "nbconvert_exporter": "python",
   "pygments_lexer": "ipython3",
   "version": "3.9.2"
  }
 },
 "nbformat": 4,
 "nbformat_minor": 5
}
